{
 "cells": [
  {
   "cell_type": "code",
   "execution_count": 1,
   "metadata": {},
   "outputs": [],
   "source": [
    "# Importing the Keras libraries and packages\n",
    "from tensorflow.keras.models import Sequential\n",
    "from tensorflow.keras.layers import Conv2D as Convolution2D\n",
    "from tensorflow.keras.layers import MaxPooling2D\n",
    "from tensorflow.keras.layers import Flatten\n",
    "from tensorflow.keras.layers import Dense\n",
    "from tensorflow.keras.preprocessing import image"
   ]
  },
  {
   "cell_type": "code",
   "execution_count": 2,
   "metadata": {},
   "outputs": [],
   "source": [
    "# Initialising the CNN\n",
    "classifier = Sequential()"
   ]
  },
  {
   "cell_type": "code",
   "execution_count": 3,
   "metadata": {},
   "outputs": [],
   "source": [
    "# Step 1 - Convolution\n",
    "classifier.add(Convolution2D(32, (3, 3), input_shape = (64, 64, 3), activation = 'relu'))"
   ]
  },
  {
   "cell_type": "code",
   "execution_count": 4,
   "metadata": {},
   "outputs": [],
   "source": [
    "# Step 2 - Pooling\n",
    "classifier.add(MaxPooling2D(pool_size = (2, 2)))"
   ]
  },
  {
   "cell_type": "code",
   "execution_count": 5,
   "metadata": {},
   "outputs": [],
   "source": [
    "# Adding a second convolutional layer\n",
    "classifier.add(Convolution2D(32, (3, 3), activation = 'relu'))\n",
    "classifier.add(MaxPooling2D(pool_size = (2, 2)))"
   ]
  },
  {
   "cell_type": "code",
   "execution_count": 6,
   "metadata": {},
   "outputs": [],
   "source": [
    "# Step 3 - Flattening\n",
    "classifier.add(Flatten())"
   ]
  },
  {
   "cell_type": "code",
   "execution_count": 7,
   "metadata": {},
   "outputs": [],
   "source": [
    "# Step 4 - Full connection\n",
    "classifier.add(Dense(128, activation = 'relu'))\n",
    "classifier.add(Dense(1, activation = 'sigmoid'))"
   ]
  },
  {
   "cell_type": "code",
   "execution_count": 8,
   "metadata": {},
   "outputs": [],
   "source": [
    "# Compiling the CNN\n",
    "classifier.compile(optimizer = 'adam', loss = 'binary_crossentropy', metrics = ['accuracy'])"
   ]
  },
  {
   "cell_type": "code",
   "execution_count": 9,
   "metadata": {},
   "outputs": [],
   "source": [
    "# Part 2 - Fitting the CNN to the images\n",
    "from tensorflow.keras.preprocessing.image import ImageDataGenerator"
   ]
  },
  {
   "cell_type": "code",
   "execution_count": 10,
   "metadata": {},
   "outputs": [],
   "source": [
    "train_datagen = ImageDataGenerator(rescale = 1./255,\n",
    "                                   shear_range = 0.2,\n",
    "                                   zoom_range = 0.2,\n",
    "                                   horizontal_flip = True)"
   ]
  },
  {
   "cell_type": "code",
   "execution_count": 11,
   "metadata": {},
   "outputs": [],
   "source": [
    "test_datagen = ImageDataGenerator(rescale = 1./255)"
   ]
  },
  {
   "cell_type": "code",
   "execution_count": 12,
   "metadata": {
    "scrolled": true
   },
   "outputs": [
    {
     "name": "stdout",
     "output_type": "stream",
     "text": [
      "Found 8000 images belonging to 2 classes.\n"
     ]
    }
   ],
   "source": [
    "training_set = train_datagen.flow_from_directory('dataset/training_set',\n",
    "                                                 target_size = (64, 64),\n",
    "                                                 batch_size = 32,\n",
    "                                                 class_mode = 'binary')"
   ]
  },
  {
   "cell_type": "code",
   "execution_count": 13,
   "metadata": {},
   "outputs": [
    {
     "name": "stdout",
     "output_type": "stream",
     "text": [
      "Found 2000 images belonging to 2 classes.\n"
     ]
    }
   ],
   "source": [
    "test_set = test_datagen.flow_from_directory('dataset/test_set',\n",
    "                                            target_size = (64, 64),\n",
    "                                            batch_size = 32,\n",
    "                                            class_mode = 'binary')"
   ]
  },
  {
   "cell_type": "code",
   "execution_count": 14,
   "metadata": {
    "scrolled": true
   },
   "outputs": [
    {
     "name": "stdout",
     "output_type": "stream",
     "text": [
      "WARNING:tensorflow:sample_weight modes were coerced from\n",
      "  ...\n",
      "    to  \n",
      "  ['...']\n",
      "WARNING:tensorflow:sample_weight modes were coerced from\n",
      "  ...\n",
      "    to  \n",
      "  ['...']\n",
      "Train for 250 steps, validate for 62 steps\n",
      "Epoch 1/15\n",
      "250/250 [==============================] - 55s 219ms/step - loss: 0.6819 - accuracy: 0.5599 - val_loss: 0.6485 - val_accuracy: 0.6184\n",
      "Epoch 2/15\n",
      "250/250 [==============================] - 36s 145ms/step - loss: 0.6171 - accuracy: 0.6586 - val_loss: 0.5675 - val_accuracy: 0.7233\n",
      "Epoch 3/15\n",
      "250/250 [==============================] - 35s 140ms/step - loss: 0.5779 - accuracy: 0.6975 - val_loss: 0.5713 - val_accuracy: 0.7102\n",
      "Epoch 4/15\n",
      "250/250 [==============================] - 36s 143ms/step - loss: 0.5451 - accuracy: 0.7219 - val_loss: 0.6005 - val_accuracy: 0.6915\n",
      "Epoch 5/15\n",
      "250/250 [==============================] - 37s 149ms/step - loss: 0.5164 - accuracy: 0.7435 - val_loss: 0.5311 - val_accuracy: 0.7334\n",
      "Epoch 6/15\n",
      "250/250 [==============================] - 36s 144ms/step - loss: 0.4954 - accuracy: 0.7564 - val_loss: 0.5012 - val_accuracy: 0.7560\n",
      "Epoch 7/15\n",
      "250/250 [==============================] - 37s 149ms/step - loss: 0.4833 - accuracy: 0.7705 - val_loss: 0.4908 - val_accuracy: 0.7661\n",
      "Epoch 8/15\n",
      "250/250 [==============================] - 36s 146ms/step - loss: 0.4683 - accuracy: 0.7738 - val_loss: 0.5015 - val_accuracy: 0.7465\n",
      "Epoch 9/15\n",
      "250/250 [==============================] - 37s 149ms/step - loss: 0.4527 - accuracy: 0.7807 - val_loss: 0.4927 - val_accuracy: 0.7601\n",
      "Epoch 10/15\n",
      "250/250 [==============================] - 38s 152ms/step - loss: 0.4370 - accuracy: 0.7946 - val_loss: 0.4954 - val_accuracy: 0.7722\n",
      "Epoch 11/15\n",
      "250/250 [==============================] - 38s 152ms/step - loss: 0.4161 - accuracy: 0.8033 - val_loss: 0.4715 - val_accuracy: 0.7913\n",
      "Epoch 12/15\n",
      "250/250 [==============================] - 38s 151ms/step - loss: 0.4167 - accuracy: 0.8046 - val_loss: 0.4785 - val_accuracy: 0.7833\n",
      "Epoch 13/15\n",
      "250/250 [==============================] - 38s 151ms/step - loss: 0.3972 - accuracy: 0.8174 - val_loss: 0.4737 - val_accuracy: 0.7787\n",
      "Epoch 14/15\n",
      "250/250 [==============================] - 40s 160ms/step - loss: 0.3984 - accuracy: 0.8108 - val_loss: 0.4878 - val_accuracy: 0.7858\n",
      "Epoch 15/15\n",
      "250/250 [==============================] - 37s 148ms/step - loss: 0.3852 - accuracy: 0.8259 - val_loss: 0.5258 - val_accuracy: 0.7621\n"
     ]
    },
    {
     "data": {
      "text/plain": [
       "<tensorflow.python.keras.callbacks.History at 0x7f65fc589610>"
      ]
     },
     "execution_count": 14,
     "metadata": {},
     "output_type": "execute_result"
    }
   ],
   "source": [
    "classifier.fit(training_set,\n",
    "                         steps_per_epoch = 8000//32,\n",
    "                         epochs = 15,\n",
    "                         validation_data = test_set,\n",
    "                         validation_steps = 2000//32)"
   ]
  },
  {
   "cell_type": "code",
   "execution_count": 30,
   "metadata": {},
   "outputs": [],
   "source": [
    "import numpy as np\n",
    "test_image = image.load_img('dog.jpg',target_size = (64, 64))\n",
    "test_image = image.img_to_array(test_image)\n",
    "test_image = np.expand_dims(test_image, axis = 0)\n",
    "result = classifier.predict(test_image)\n",
    "training_set.class_indices\n",
    "if result[0][0] == 0:\n",
    "    prediction = 'cat'\n",
    "else:\n",
    "    prediction = 'dog'"
   ]
  },
  {
   "cell_type": "code",
   "execution_count": 31,
   "metadata": {},
   "outputs": [
    {
     "data": {
      "text/plain": [
       "'dog'"
      ]
     },
     "execution_count": 31,
     "metadata": {},
     "output_type": "execute_result"
    }
   ],
   "source": [
    "prediction"
   ]
  }
 ],
 "metadata": {
  "kernelspec": {
   "display_name": "Python 3",
   "language": "python",
   "name": "python3"
  },
  "language_info": {
   "codemirror_mode": {
    "name": "ipython",
    "version": 3
   },
   "file_extension": ".py",
   "mimetype": "text/x-python",
   "name": "python",
   "nbconvert_exporter": "python",
   "pygments_lexer": "ipython3",
   "version": "3.7.4"
  }
 },
 "nbformat": 4,
 "nbformat_minor": 2
}
